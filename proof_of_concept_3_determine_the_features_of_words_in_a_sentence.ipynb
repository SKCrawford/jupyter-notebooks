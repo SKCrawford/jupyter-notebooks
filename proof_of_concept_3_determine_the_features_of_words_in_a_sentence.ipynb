{
 "cells": [
  {
   "cell_type": "markdown",
   "metadata": {},
   "source": [
    "# Proof-of-Concept 3: Determine the Features of Words in a Sentence"
   ]
  },
  {
   "cell_type": "markdown",
   "metadata": {},
   "source": [
    "## How to use this PoC:\n",
    "After you run it, you may have to scroll back up to the top.\n",
    "\n",
    "To run it: in the drop-down menu, click **Kernel --> Restart & Run All --> Restart and Run All Cells**\n",
    "\n",
    "    or\n",
    "\n",
    "To run it: in the icon toolbar, click **the Fast-Forward button --> Restart and Run All Cells**."
   ]
  },
  {
   "cell_type": "markdown",
   "metadata": {},
   "source": [
    "## Attribution:\n",
    "**Author**: Steven Kyle Crawford\n",
    "\n",
    "Special thanks to the spaCy team and numerous authors."
   ]
  },
  {
   "cell_type": "markdown",
   "metadata": {},
   "source": [
    "## Description:\n",
    "This notebook illustrates the process of determining the parts of speech, the tags, and the dependencies of each word in a sentence. This will assist in the creation and validation of rules for syntax detection.\n",
    "\n",
    "This notebook demonstrates:\n",
    "* Tokenizing the words in a sentence\n",
    "* Printing a readable table of tokens containing:\n",
    "    * The word\n",
    "    * The part-of-speech (POS)\n",
    "    * The tag\n",
    "    * The dependency"
   ]
  },
  {
   "cell_type": "markdown",
   "metadata": {},
   "source": [
    "## Helpful links:\n",
    "* [spaCy linguistic features glossary](https://github.com/explosion/spaCy/blob/master/spacy/glossary.py#L20)\n",
    "* [spaCy token attributes](https://spacy.io/api/token#attributes)"
   ]
  },
  {
   "cell_type": "markdown",
   "metadata": {},
   "source": [
    "## Procedure:"
   ]
  },
  {
   "cell_type": "markdown",
   "metadata": {},
   "source": [
    "### Step 0) Install the dependencies\n",
    "* spaCy and its dependencies\n",
    "* tabulate (for pretty printing data tables)"
   ]
  },
  {
   "cell_type": "code",
   "execution_count": 1,
   "metadata": {},
   "outputs": [],
   "source": [
    "# # Run this only once to avoid unnecessary redownloading\n",
    "# # To enable or disable, highlight all lines and <Ctrl> + /\n",
    "# !pip install -U spacy\n",
    "# !pip install -U spacy-lookups-data\n",
    "# !python -m spacy download en_core_web_sm\n",
    "# !pip install -U tabulate"
   ]
  },
  {
   "cell_type": "markdown",
   "metadata": {},
   "source": [
    "### Step 1) Load the language model"
   ]
  },
  {
   "cell_type": "code",
   "execution_count": 2,
   "metadata": {},
   "outputs": [],
   "source": [
    "import spacy\n",
    "\n",
    "\n",
    "nlp = spacy.load('en_core_web_sm')"
   ]
  },
  {
   "cell_type": "markdown",
   "metadata": {},
   "source": [
    "### Step 2) Tokenize the words of a sentence"
   ]
  },
  {
   "cell_type": "code",
   "execution_count": 3,
   "metadata": {},
   "outputs": [
    {
     "name": "stdout",
     "output_type": "stream",
     "text": [
      "DET     These\n",
      "NOUN    words\n",
      "AUX     are\n",
      "ADV     all\n",
      "VERB    tagged\n",
      "PUNCT   .\n"
     ]
    }
   ],
   "source": [
    "def tokenize_sentence(sentence):\n",
    "    \"\"\"Tokenize a sentence.\n",
    "\n",
    "    Given a string, return a list of Token instances.\n",
    "    \"\"\"\n",
    "\n",
    "    return nlp(sentence)\n",
    "\n",
    "\n",
    "sentence = \"These words are all tagged.\"\n",
    "tokens = tokenize_sentence(sentence)\n",
    "pretty_print = [print(f\"{token.pos_:7} {token.text}\") for token in tokens]"
   ]
  },
  {
   "cell_type": "markdown",
   "metadata": {},
   "source": [
    "### Step 3) Pretty print the table of tokens"
   ]
  },
  {
   "cell_type": "code",
   "execution_count": 4,
   "metadata": {},
   "outputs": [],
   "source": [
    "from tabulate import tabulate\n",
    "\n",
    "\n",
    "def print_token_table(sentence, pos=False, tag=True, dependency=True, lemma=False):\n",
    "    \"\"\"Pretty print the linguistics features of each word in a sentence.\n",
    "    If pos is True, then print the part-of-speech (POS). Defaults to True.\n",
    "    If tag is True, then print the tag. Defaults to True.\n",
    "    If dependency is True, then print the dependencies. Defaults to True.\n",
    "\n",
    "    Given a string, return None.\n",
    "    Depends on tabulate.\n",
    "    \"\"\"\n",
    "\n",
    "    # Print the sentence\n",
    "    print(sentence + \"\\n\")\n",
    "\n",
    "    # Create the table headers\n",
    "    headers = []\n",
    "    headers.append(\"Word\")\n",
    "    if pos:\n",
    "        headers.append(\"POS\")\n",
    "        headers.append(\"POS Definition\")\n",
    "    if tag:\n",
    "        headers.append(\"Tag\")\n",
    "        headers.append(\"Tag Definition\")\n",
    "    if dependency:\n",
    "        headers.append(\"Dep.\")\n",
    "        headers.append(\"Dep. Definition\")\n",
    "    if lemma:\n",
    "        headers.append(\"Lemma.\")\n",
    "\n",
    "    # Create the table data\n",
    "    tagged_words = nlp(sentence)\n",
    "    data = []\n",
    "    for word in tagged_words:\n",
    "        entry = []\n",
    "        entry.append(word.text)\n",
    "        if pos:\n",
    "            entry.append(word.pos_)\n",
    "            entry.append(spacy.explain(word.pos_))\n",
    "        if tag:\n",
    "            entry.append(word.tag_)\n",
    "            entry.append(spacy.explain(word.tag_))\n",
    "        if dependency:\n",
    "            entry.append(word.dep_)\n",
    "            entry.append(spacy.explain(word.dep_))\n",
    "        if lemma:\n",
    "            entry.append(word.lemma_)\n",
    "        data.append(entry)\n",
    "\n",
    "    # Print the table\n",
    "    print(tabulate(data, headers=headers, tablefmt=\"github\") + \"\\n\\n\")"
   ]
  },
  {
   "cell_type": "markdown",
   "metadata": {},
   "source": [
    "### Step 4) Use it"
   ]
  },
  {
   "cell_type": "code",
   "execution_count": 5,
   "metadata": {},
   "outputs": [
    {
     "name": "stdout",
     "output_type": "stream",
     "text": [
      "Nine times the space that measures day and night To mortal men, he, with his horrid crew, Lay vanquished, rolling in the fiery gulf, Confounded, though immortal.\n",
      "\n",
      "| Word       | Tag   | Tag Definition                            | Dep.      | Dep. Definition                   |\n",
      "|------------|-------|-------------------------------------------|-----------|-----------------------------------|\n",
      "| Nine       | CD    | cardinal number                           | nummod    | numeric modifier                  |\n",
      "| times      | NNS   | noun, plural                              | nummod    | numeric modifier                  |\n",
      "| the        | DT    | determiner                                | det       | determiner                        |\n",
      "| space      | NN    | noun, singular or mass                    | ROOT      |                                   |\n",
      "| that       | WDT   | wh-determiner                             | nsubj     | nominal subject                   |\n",
      "| measures   | VBZ   | verb, 3rd person singular present         | relcl     | relative clause modifier          |\n",
      "| day        | NN    | noun, singular or mass                    | npadvmod  | noun phrase as adverbial modifier |\n",
      "| and        | CC    | conjunction, coordinating                 | cc        | coordinating conjunction          |\n",
      "| night      | NN    | noun, singular or mass                    | conj      | conjunct                          |\n",
      "| To         | IN    | conjunction, subordinating or preposition | prep      | prepositional modifier            |\n",
      "| mortal     | JJ    | adjective                                 | amod      | adjectival modifier               |\n",
      "| men        | NNS   | noun, plural                              | pobj      | object of preposition             |\n",
      "| ,          | ,     | punctuation mark, comma                   | punct     | punctuation                       |\n",
      "| he         | PRP   | pronoun, personal                         | appos     | appositional modifier             |\n",
      "| ,          | ,     | punctuation mark, comma                   | punct     | punctuation                       |\n",
      "| with       | IN    | conjunction, subordinating or preposition | prep      | prepositional modifier            |\n",
      "| his        | PRP$  | pronoun, possessive                       | poss      | possession modifier               |\n",
      "| horrid     | NN    | noun, singular or mass                    | compound  | compound                          |\n",
      "| crew       | NN    | noun, singular or mass                    | pobj      | object of preposition             |\n",
      "| ,          | ,     | punctuation mark, comma                   | punct     | punctuation                       |\n",
      "| Lay        | NNP   | noun, proper singular                     | nsubj     | nominal subject                   |\n",
      "| vanquished | VBD   | verb, past tense                          | parataxis | parataxis                         |\n",
      "| ,          | ,     | punctuation mark, comma                   | punct     | punctuation                       |\n",
      "| rolling    | VBG   | verb, gerund or present participle        | advcl     | adverbial clause modifier         |\n",
      "| in         | IN    | conjunction, subordinating or preposition | prep      | prepositional modifier            |\n",
      "| the        | DT    | determiner                                | det       | determiner                        |\n",
      "| fiery      | NNP   | noun, proper singular                     | compound  | compound                          |\n",
      "| gulf       | NN    | noun, singular or mass                    | pobj      | object of preposition             |\n",
      "| ,          | ,     | punctuation mark, comma                   | punct     | punctuation                       |\n",
      "| Confounded | VBD   | verb, past tense                          | conj      | conjunct                          |\n",
      "| ,          | ,     | punctuation mark, comma                   | punct     | punctuation                       |\n",
      "| though     | IN    | conjunction, subordinating or preposition | mark      | marker                            |\n",
      "| immortal   | JJ    | adjective                                 | advcl     | adverbial clause modifier         |\n",
      "| .          | .     | punctuation mark, sentence closer         | punct     | punctuation                       |\n",
      "\n",
      "\n"
     ]
    }
   ],
   "source": [
    "sentence = \"Nine times the space that measures day and night To mortal men, he, with his horrid crew, Lay vanquished, rolling in the fiery gulf, Confounded, though immortal.\"\n",
    "\n",
    "print_token_table(sentence, pos=False, tag=True, dependency=True)"
   ]
  },
  {
   "cell_type": "markdown",
   "metadata": {},
   "source": [
    "## Interactive Example:"
   ]
  },
  {
   "cell_type": "markdown",
   "metadata": {},
   "source": [
    "### Try changing these settings\n",
    "Ctrl + Enter = reload the cell/code block"
   ]
  },
  {
   "cell_type": "code",
   "execution_count": 6,
   "metadata": {},
   "outputs": [
    {
     "name": "stdout",
     "output_type": "stream",
     "text": [
      "Who first seduced them to that foul revolt?\n",
      "\n",
      "| Word    | Tag   | Tag Definition                            | Dep.   | Dep. Definition        |\n",
      "|---------|-------|-------------------------------------------|--------|------------------------|\n",
      "| Who     | WP    | wh-pronoun, personal                      | nsubj  | nominal subject        |\n",
      "| first   | RB    | adverb                                    | advmod | adverbial modifier     |\n",
      "| seduced | VBD   | verb, past tense                          | ROOT   |                        |\n",
      "| them    | PRP   | pronoun, personal                         | dobj   | direct object          |\n",
      "| to      | IN    | conjunction, subordinating or preposition | prep   | prepositional modifier |\n",
      "| that    | DT    | determiner                                | det    | determiner             |\n",
      "| foul    | JJ    | adjective                                 | amod   | adjectival modifier    |\n",
      "| revolt  | NN    | noun, singular or mass                    | pobj   | object of preposition  |\n",
      "| ?       | .     | punctuation mark, sentence closer         | punct  | punctuation            |\n",
      "\n",
      "\n"
     ]
    }
   ],
   "source": [
    "# Change this: don't forget the \"\"\n",
    "sentence = \"Who first seduced them to that foul revolt?\"\n",
    "\n",
    "# Change this: True or False\n",
    "show_parts_of_speech = False\n",
    "show_tags = True\n",
    "show_dependencies = True\n",
    "\n",
    "\n",
    "# Don't change this\n",
    "print_token_table(sentence, pos=show_parts_of_speech, tag=show_tags, dependency=show_dependencies)"
   ]
  },
  {
   "cell_type": "markdown",
   "metadata": {},
   "source": [
    "## Other Examples:"
   ]
  },
  {
   "cell_type": "markdown",
   "metadata": {},
   "source": [
    "### Example 1: Julius Caesar (Shakespeare)"
   ]
  },
  {
   "cell_type": "code",
   "execution_count": 7,
   "metadata": {},
   "outputs": [
    {
     "name": "stdout",
     "output_type": "stream",
     "text": [
      "Speake, what Trade art thou?\n",
      "\n",
      "| Word   | Tag   | Tag Definition                    | Dep.     | Dep. Definition    |\n",
      "|--------|-------|-----------------------------------|----------|--------------------|\n",
      "| Speake | VB    | verb, base form                   | ROOT     |                    |\n",
      "| ,      | ,     | punctuation mark, comma           | punct    | punctuation        |\n",
      "| what   | WP    | wh-pronoun, personal              | dobj     | direct object      |\n",
      "| Trade  | NNP   | noun, proper singular             | compound | compound           |\n",
      "| art    | NN    | noun, singular or mass            | compound | compound           |\n",
      "| thou   | NN    | noun, singular or mass            | ccomp    | clausal complement |\n",
      "| ?      | .     | punctuation mark, sentence closer | punct    | punctuation        |\n",
      "\n",
      "\n"
     ]
    }
   ],
   "source": [
    "sentence = \"Speake, what Trade art thou?\"\n",
    "print_token_table(sentence, pos=False, tag=True, dependency=True)"
   ]
  },
  {
   "cell_type": "markdown",
   "metadata": {},
   "source": [
    "### Example 2: Syntactic Ambiguity and Limitations\n",
    "* \"A pretty little girl\"\n",
    "    * A girl who is cute and little.\n",
    "    * A girl who is somewhat little.\n",
    "\n",
    "* [The conundrum](https://www.grammarphobia.com/blog/2019/01/pretty.html)\n",
    "* *Pretty* can be either of these (tag/dependency):\n",
    "    * JJ/amod (adjective/adjectival modifier)\n",
    "        * When *pretty* is the only adjective\n",
    "        * When *pretty* is followed by a comma and another adjective\n",
    "    * RB/advmod (adverb/adverbial modifier)\n",
    "        * When *pretty* is followed by another adjective"
   ]
  },
  {
   "cell_type": "markdown",
   "metadata": {},
   "source": [
    "#### Example 2a: A pretty girl"
   ]
  },
  {
   "cell_type": "code",
   "execution_count": 8,
   "metadata": {},
   "outputs": [
    {
     "name": "stdout",
     "output_type": "stream",
     "text": [
      "A pretty girl\n",
      "\n",
      "| Word   | Tag   | Tag Definition         |\n",
      "|--------|-------|------------------------|\n",
      "| A      | DT    | determiner             |\n",
      "| pretty | JJ    | adjective              |\n",
      "| girl   | NN    | noun, singular or mass |\n",
      "\n",
      "\n"
     ]
    }
   ],
   "source": [
    "sentence = \"A pretty girl\"\n",
    "print_token_table(sentence, pos=False, tag=True, dependency=False)"
   ]
  },
  {
   "cell_type": "markdown",
   "metadata": {},
   "source": [
    "#### Example 2b: A pretty, little girl"
   ]
  },
  {
   "cell_type": "code",
   "execution_count": 9,
   "metadata": {
    "scrolled": true
   },
   "outputs": [
    {
     "name": "stdout",
     "output_type": "stream",
     "text": [
      "A pretty, little girl\n",
      "\n",
      "| Word   | Tag   | Tag Definition          |\n",
      "|--------|-------|-------------------------|\n",
      "| A      | DT    | determiner              |\n",
      "| pretty | JJ    | adjective               |\n",
      "| ,      | ,     | punctuation mark, comma |\n",
      "| little | JJ    | adjective               |\n",
      "| girl   | NN    | noun, singular or mass  |\n",
      "\n",
      "\n"
     ]
    }
   ],
   "source": [
    "sentence = \"A pretty, little girl\"\n",
    "print_token_table(sentence, pos=False, tag=True, dependency=False)"
   ]
  },
  {
   "cell_type": "markdown",
   "metadata": {},
   "source": [
    "#### Example 2c: A pretty little girl"
   ]
  },
  {
   "cell_type": "code",
   "execution_count": 10,
   "metadata": {},
   "outputs": [
    {
     "name": "stdout",
     "output_type": "stream",
     "text": [
      "A pretty little girl\n",
      "\n",
      "| Word   | Tag   | Tag Definition         |\n",
      "|--------|-------|------------------------|\n",
      "| A      | DT    | determiner             |\n",
      "| pretty | RB    | adverb                 |\n",
      "| little | JJ    | adjective              |\n",
      "| girl   | NN    | noun, singular or mass |\n",
      "\n",
      "\n"
     ]
    }
   ],
   "source": [
    "sentence = \"A pretty little girl\"\n",
    "print_token_table(sentence, pos=False, tag=True, dependency=False)"
   ]
  },
  {
   "cell_type": "markdown",
   "metadata": {},
   "source": [
    "### Example 3: Emma (Austen) - An NLP Nightmare"
   ]
  },
  {
   "cell_type": "code",
   "execution_count": 11,
   "metadata": {},
   "outputs": [
    {
     "name": "stdout",
     "output_type": "stream",
     "text": [
      "Her mother had died too long ago for her to have more than an indistinct remembrance of her caresses; and her place had been supplied by an excellent woman as governess, who had fallen little short of a mother in affection.\n",
      "\n",
      "| Word        | Tag   | Tag Definition                            | Dep.      | Dep. Definition           |\n",
      "|-------------|-------|-------------------------------------------|-----------|---------------------------|\n",
      "| Her         | PRP$  | pronoun, possessive                       | poss      | possession modifier       |\n",
      "| mother      | NN    | noun, singular or mass                    | nsubj     | nominal subject           |\n",
      "| had         | VBD   | verb, past tense                          | aux       | auxiliary                 |\n",
      "| died        | VBN   | verb, past participle                     | ROOT      |                           |\n",
      "| too         | RB    | adverb                                    | advmod    | adverbial modifier        |\n",
      "| long        | RB    | adverb                                    | advmod    | adverbial modifier        |\n",
      "| ago         | RB    | adverb                                    | advmod    | adverbial modifier        |\n",
      "| for         | IN    | conjunction, subordinating or preposition | mark      | marker                    |\n",
      "| her         | PRP   | pronoun, personal                         | nsubj     | nominal subject           |\n",
      "| to          | TO    | infinitival \"to\"                          | aux       | auxiliary                 |\n",
      "| have        | VB    | verb, base form                           | advcl     | adverbial clause modifier |\n",
      "| more        | JJR   | adjective, comparative                    | dobj      | direct object             |\n",
      "| than        | IN    | conjunction, subordinating or preposition | prep      | prepositional modifier    |\n",
      "| an          | DT    | determiner                                | det       | determiner                |\n",
      "| indistinct  | JJ    | adjective                                 | amod      | adjectival modifier       |\n",
      "| remembrance | NN    | noun, singular or mass                    | pobj      | object of preposition     |\n",
      "| of          | IN    | conjunction, subordinating or preposition | prep      | prepositional modifier    |\n",
      "| her         | PRP$  | pronoun, possessive                       | poss      | possession modifier       |\n",
      "| caresses    | NNS   | noun, plural                              | pobj      | object of preposition     |\n",
      "| ;           | ,     | punctuation mark, comma                   | punct     | punctuation               |\n",
      "| and         | CC    | conjunction, coordinating                 | cc        | coordinating conjunction  |\n",
      "| her         | PRP$  | pronoun, possessive                       | poss      | possession modifier       |\n",
      "| place       | NN    | noun, singular or mass                    | nsubjpass | nominal subject (passive) |\n",
      "| had         | VBD   | verb, past tense                          | aux       | auxiliary                 |\n",
      "| been        | VBN   | verb, past participle                     | auxpass   | auxiliary (passive)       |\n",
      "| supplied    | VBN   | verb, past participle                     | conj      | conjunct                  |\n",
      "| by          | IN    | conjunction, subordinating or preposition | agent     | agent                     |\n",
      "| an          | DT    | determiner                                | det       | determiner                |\n",
      "| excellent   | JJ    | adjective                                 | amod      | adjectival modifier       |\n",
      "| woman       | NN    | noun, singular or mass                    | pobj      | object of preposition     |\n",
      "| as          | IN    | conjunction, subordinating or preposition | prep      | prepositional modifier    |\n",
      "| governess   | NN    | noun, singular or mass                    | pobj      | object of preposition     |\n",
      "| ,           | ,     | punctuation mark, comma                   | punct     | punctuation               |\n",
      "| who         | WP    | wh-pronoun, personal                      | nsubj     | nominal subject           |\n",
      "| had         | VBD   | verb, past tense                          | aux       | auxiliary                 |\n",
      "| fallen      | VBN   | verb, past participle                     | relcl     | relative clause modifier  |\n",
      "| little      | JJ    | adjective                                 | amod      | adjectival modifier       |\n",
      "| short       | JJ    | adjective                                 | oprd      | object predicate          |\n",
      "| of          | IN    | conjunction, subordinating or preposition | prep      | prepositional modifier    |\n",
      "| a           | DT    | determiner                                | det       | determiner                |\n",
      "| mother      | NN    | noun, singular or mass                    | pobj      | object of preposition     |\n",
      "| in          | IN    | conjunction, subordinating or preposition | prep      | prepositional modifier    |\n",
      "| affection   | NN    | noun, singular or mass                    | pobj      | object of preposition     |\n",
      "| .           | .     | punctuation mark, sentence closer         | punct     | punctuation               |\n",
      "\n",
      "\n"
     ]
    }
   ],
   "source": [
    "sentence = \"Her mother had died too long ago for her to have more than an indistinct remembrance of her caresses; and her place had been supplied by an excellent woman as governess, who had fallen little short of a mother in affection.\"\n",
    "print_token_table(sentence, pos=False, tag=True, dependency=True)"
   ]
  }
 ],
 "metadata": {
  "kernelspec": {
   "display_name": "Python 3",
   "language": "python",
   "name": "python3"
  },
  "language_info": {
   "codemirror_mode": {
    "name": "ipython",
    "version": 3
   },
   "file_extension": ".py",
   "mimetype": "text/x-python",
   "name": "python",
   "nbconvert_exporter": "python",
   "pygments_lexer": "ipython3",
   "version": "3.8.3"
  }
 },
 "nbformat": 4,
 "nbformat_minor": 4
}
