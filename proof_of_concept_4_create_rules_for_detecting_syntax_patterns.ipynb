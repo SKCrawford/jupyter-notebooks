{
 "cells": [
  {
   "cell_type": "markdown",
   "metadata": {},
   "source": [
    "# Proof-of-Concept 4: Create Rules for Detecting Syntax Patterns"
   ]
  },
  {
   "cell_type": "markdown",
   "metadata": {},
   "source": [
    "## How to use this PoC:\n",
    "After you run it, you may have to scroll back up to the top.\n",
    "\n",
    "To run it: in the drop-down menu, click **Kernel --> Restart & Run All --> Restart and Run All Cells**\n",
    "\n",
    "    or\n",
    "\n",
    "To run it: in the icon toolbar, click **the Fast-Forward button --> Restart and Run All Cells**."
   ]
  },
  {
   "cell_type": "markdown",
   "metadata": {},
   "source": [
    "## Attribution:\n",
    "**Author**: Steven Kyle Crawford\n",
    "\n",
    "Special thanks to the spaCy team, the NLTK team, and numerous authors."
   ]
  },
  {
   "cell_type": "markdown",
   "metadata": {},
   "source": [
    "## Description:\n",
    "This notebook illustrates creating custom spaCy rules for somewhat accurately detecting grammatical and syntactic patterns.\n",
    "\n",
    "This notebook demonstrates:\n",
    "* detecting simple past tense\n",
    "* comparing simple past and present perfect sentences\n",
    "* analyzing sentences from authentic news articles, science publications, and editorials in NLTK's Brown corpora"
   ]
  },
  {
   "cell_type": "markdown",
   "metadata": {},
   "source": [
    "## Helpful links:\n",
    "* [spaCy linguistic features glossary](https://github.com/explosion/spaCy/blob/master/spacy/glossary.py#L20)"
   ]
  },
  {
   "cell_type": "markdown",
   "metadata": {},
   "source": [
    "## Procedure:"
   ]
  },
  {
   "cell_type": "markdown",
   "metadata": {},
   "source": [
    "### Step 0) Install the dependencies\n",
    "* spaCy and its dependencies\n",
    "* NLTK and its dependencies\n",
    "* tabulate for pretty tables"
   ]
  },
  {
   "cell_type": "code",
   "execution_count": 1,
   "metadata": {},
   "outputs": [],
   "source": [
    "# # Run this only once to avoid unnecessary redownloading\n",
    "# # To enable or disable, <Ctrl> + a then <Ctrl> + /\n",
    "\n",
    "# !pip install -U spacy\n",
    "# !pip install -U spacy-lookups-data\n",
    "# !python -m spacy download en_core_web_sm\n",
    "# !pip install -U nltk\n",
    "# !python -m nltk.downloader all-corpora # This will install only the corpora (no grammars or trained models\n",
    "# !pip install -U tabulate"
   ]
  },
  {
   "cell_type": "markdown",
   "metadata": {},
   "source": [
    "### Step 1) Decide on a pattern to detect\n",
    "Example pattern used below: **simple past verb tense**.\n",
    "\n",
    "Some patterns are more easily and reliably detected than others. Passive voice works with most verbs, but reported speech's main verb is restricted (say, tell, report, etc.). If detecting reported speech, all of these different verbs will need to be accounted for."
   ]
  },
  {
   "cell_type": "code",
   "execution_count": 2,
   "metadata": {},
   "outputs": [],
   "source": [
    "import spacy\n",
    "\n",
    "\n",
    "nlp = spacy.load(\"en_core_web_sm\")"
   ]
  },
  {
   "cell_type": "markdown",
   "metadata": {},
   "source": [
    "### Step 2) Prepare to print a token table\n",
    "Borrowed from Proof of Concept 3."
   ]
  },
  {
   "cell_type": "code",
   "execution_count": 3,
   "metadata": {},
   "outputs": [],
   "source": [
    "from tabulate import tabulate\n",
    "\n",
    "\n",
    "def print_token_table(sentence, pos=False, tag=True, dependency=True, lemma=False):\n",
    "    \"\"\"Pretty print the linguistics features of each word in a sentence.\n",
    "    If pos is True, then print the part-of-speech (POS). Defaults to True.\n",
    "    If tag is True, then print the tag. Defaults to True.\n",
    "    If dependency is True, then print the dependencies. Defaults to True.\n",
    "\n",
    "    Given a string, return None.\n",
    "    Depends on tabulate.\n",
    "    \"\"\"\n",
    "\n",
    "    # Print the sentence\n",
    "    print(sentence + \"\\n\")\n",
    "\n",
    "    # Create the table headers\n",
    "    headers = []\n",
    "    headers.append(\"Word\")\n",
    "    if pos:\n",
    "        headers.append(\"POS\")\n",
    "        headers.append(\"POS Definition\")\n",
    "    if tag:\n",
    "        headers.append(\"Tag\")\n",
    "        headers.append(\"Tag Definition\")\n",
    "    if dependency:\n",
    "        headers.append(\"Dep.\")\n",
    "        headers.append(\"Dep. Definition\")\n",
    "    if lemma:\n",
    "        headers.append(\"Lemma.\")\n",
    "\n",
    "    # Create the table data\n",
    "    doc = nlp(sentence)\n",
    "    data = []\n",
    "    for word in doc:\n",
    "        entry = []\n",
    "        entry.append(word.text)\n",
    "        if pos:\n",
    "            entry.append(word.pos_)\n",
    "            entry.append(spacy.explain(word.pos_))\n",
    "        if tag:\n",
    "            entry.append(word.tag_)\n",
    "            entry.append(spacy.explain(word.tag_))\n",
    "        if dependency:\n",
    "            entry.append(word.dep_)\n",
    "            entry.append(spacy.explain(word.dep_))\n",
    "        if lemma:\n",
    "            entry.append(word.lemma_)\n",
    "        data.append(entry)\n",
    "\n",
    "    # Print the table\n",
    "    print(tabulate(data, headers=headers, tablefmt=\"github\") + \"\\n\\n\")"
   ]
  },
  {
   "cell_type": "markdown",
   "metadata": {},
   "source": [
    "### Step 3) Create example sentences using the pattern"
   ]
  },
  {
   "cell_type": "code",
   "execution_count": 4,
   "metadata": {},
   "outputs": [],
   "source": [
    "# Source: https://englishstudyhere.com/tenses/20-sentences-in-simple-past-tense/\n",
    "simple_past_sentences = [\n",
    "    \"Two boys played with a ball.\",\n",
    "    \"An old lady walked with her cat.\",\n",
    "    \"A nurse brought a little baby girl to the park.\",\n",
    "    \"An old man sat down and read his book.\",\n",
    "    \"A large truck came around the corner.\",\n",
    "]\n",
    "\n",
    "# Source: https://englishstudyhere.com/grammar/100-sentences-of-present-perfect-tense-examples-of-present-perfect-tense/\n",
    "present_perfect_sentences = [\n",
    "    \"My sister has made a big cake.\",\n",
    "    \"You have grown since the last time I saw you.\",\n",
    "    \"It hasn't drunk the water.\",\n",
    "    \"I have seen that movie.\",\n",
    "    \"We haven't received any mail since we were retired.\",\n",
    "]"
   ]
  },
  {
   "cell_type": "markdown",
   "metadata": {},
   "source": [
    "### Step 3.5) If necessary, format the sentence to a single string\n",
    "The NLTK corpora's Gutenberg books don't require this, but Brown does."
   ]
  },
  {
   "cell_type": "code",
   "execution_count": 5,
   "metadata": {},
   "outputs": [],
   "source": [
    "def convert_word_list_to_sentence(word_list):\n",
    "    \"\"\"A sentence looks like a natural sentence, but a word list is quite different.\n",
    "    ['This', 'is', 'a', 'word', 'list', '.']\n",
    "    Only a sentence can be used in spaCy rule-based matching.\n",
    "    TODO: fix punctuation improperly surrounded by whitespace\n",
    "\n",
    "    Given a list of strings, return a string.\n",
    "    \"\"\"\n",
    "\n",
    "    return ' '.join(word_list).strip()\n",
    "\n",
    "\n",
    "def convert_word_lists_to_sentences(word_lists):\n",
    "    \"\"\"A sentence looks like a natural sentence, but a word list is quite different.\n",
    "    Each [] being its own list, a collection of word lists looks like:\n",
    "        [\n",
    "            ['This', 'is', 'one', 'sentence', '.'],\n",
    "            ['This', 'is', 'another', 'sentence', '.'],\n",
    "        ]\n",
    "    Only a sentence can be used in spaCy rule-based matching.\n",
    "\n",
    "    Given a list of list of strings, return a list of strings.\n",
    "    \"\"\"\n",
    "\n",
    "    return [convert_word_list_to_sentence(word_list) for word_list in word_lists]"
   ]
  },
  {
   "cell_type": "markdown",
   "metadata": {},
   "source": [
    "### Step 4) Find commonalities in the tokenized example sentences"
   ]
  },
  {
   "cell_type": "code",
   "execution_count": 6,
   "metadata": {},
   "outputs": [
    {
     "name": "stdout",
     "output_type": "stream",
     "text": [
      "Two boys played with a ball.\n",
      "\n",
      "| Word   | Tag   | Tag Definition                            | Dep.   | Dep. Definition        |\n",
      "|--------|-------|-------------------------------------------|--------|------------------------|\n",
      "| Two    | CD    | cardinal number                           | nummod | numeric modifier       |\n",
      "| boys   | NNS   | noun, plural                              | nsubj  | nominal subject        |\n",
      "| played | VBD   | verb, past tense                          | ROOT   |                        |\n",
      "| with   | IN    | conjunction, subordinating or preposition | prep   | prepositional modifier |\n",
      "| a      | DT    | determiner                                | det    | determiner             |\n",
      "| ball   | NN    | noun, singular or mass                    | pobj   | object of preposition  |\n",
      "| .      | .     | punctuation mark, sentence closer         | punct  | punctuation            |\n",
      "\n",
      "\n",
      "An old lady walked with her cat.\n",
      "\n",
      "| Word   | Tag   | Tag Definition                            | Dep.   | Dep. Definition        |\n",
      "|--------|-------|-------------------------------------------|--------|------------------------|\n",
      "| An     | DT    | determiner                                | det    | determiner             |\n",
      "| old    | JJ    | adjective                                 | amod   | adjectival modifier    |\n",
      "| lady   | NN    | noun, singular or mass                    | nsubj  | nominal subject        |\n",
      "| walked | VBD   | verb, past tense                          | ROOT   |                        |\n",
      "| with   | IN    | conjunction, subordinating or preposition | prep   | prepositional modifier |\n",
      "| her    | PRP$  | pronoun, possessive                       | poss   | possession modifier    |\n",
      "| cat    | NN    | noun, singular or mass                    | pobj   | object of preposition  |\n",
      "| .      | .     | punctuation mark, sentence closer         | punct  | punctuation            |\n",
      "\n",
      "\n",
      "A nurse brought a little baby girl to the park.\n",
      "\n",
      "| Word    | Tag   | Tag Definition                            | Dep.     | Dep. Definition       |\n",
      "|---------|-------|-------------------------------------------|----------|-----------------------|\n",
      "| A       | DT    | determiner                                | det      | determiner            |\n",
      "| nurse   | NN    | noun, singular or mass                    | nsubj    | nominal subject       |\n",
      "| brought | VBD   | verb, past tense                          | ROOT     |                       |\n",
      "| a       | DT    | determiner                                | det      | determiner            |\n",
      "| little  | JJ    | adjective                                 | amod     | adjectival modifier   |\n",
      "| baby    | NN    | noun, singular or mass                    | compound | compound              |\n",
      "| girl    | NN    | noun, singular or mass                    | dobj     | direct object         |\n",
      "| to      | IN    | conjunction, subordinating or preposition | dative   | dative                |\n",
      "| the     | DT    | determiner                                | det      | determiner            |\n",
      "| park    | NN    | noun, singular or mass                    | pobj     | object of preposition |\n",
      "| .       | .     | punctuation mark, sentence closer         | punct    | punctuation           |\n",
      "\n",
      "\n"
     ]
    }
   ],
   "source": [
    "for sentence in simple_past_sentences[:3]:\n",
    "    print_token_table(sentence, pos=False)"
   ]
  },
  {
   "cell_type": "markdown",
   "metadata": {},
   "source": [
    "#### Example 1\n",
    "\n",
    "Two boys played with a ball.\n",
    "\n",
    "\n",
    "| Word   | Tag   | Tag Definition                            | Dep.   | Dep. Definition        |\n",
    "|--------|-------|-------------------------------------------|--------|------------------------|\n",
    "| played | VBD   | verb, past tense                          | ROOT   |                        |\n",
    "\n",
    "\n",
    "#### Example 2\n",
    "\n",
    "An old lady walked with her cat.\n",
    "\n",
    "\n",
    "| Word   | Tag   | Tag Definition                            | Dep.   | Dep. Definition        |\n",
    "|--------|-------|-------------------------------------------|--------|------------------------|\n",
    "| walked | VBD   | verb, past tense                          | ROOT   |                        |\n",
    "\n",
    "\n",
    "#### Example 3\n",
    "\n",
    "A nurse brought a little baby girl to the park.\n",
    "\n",
    "\n",
    "| Word    | Tag   | Tag Definition                            | Dep.     | Dep. Definition       |\n",
    "|---------|-------|-------------------------------------------|----------|-----------------------|\n",
    "| brought | VBD   | verb, past tense                          | ROOT     |                       |\n",
    "\n",
    "\n",
    "#### The pattern\n",
    "\n",
    "In each sentence, a NN (singular noun) or NNS (plural noun) is followed by a VBD (past tense verb). Each past tense verb is the ROOT dependency of the sentence. This means it is not necessary to look for nouns; we can just look for the ROOT."
   ]
  },
  {
   "cell_type": "markdown",
   "metadata": {},
   "source": [
    "### Step 5) Create the spaCy rule"
   ]
  },
  {
   "cell_type": "code",
   "execution_count": 7,
   "metadata": {},
   "outputs": [],
   "source": [
    "simple_past_rule = [\n",
    "    {'TAG': 'VBD', 'DEP': 'ROOT'},\n",
    "]"
   ]
  },
  {
   "cell_type": "markdown",
   "metadata": {},
   "source": [
    "### Step 6) Put it all together"
   ]
  },
  {
   "cell_type": "code",
   "execution_count": 8,
   "metadata": {},
   "outputs": [],
   "source": [
    "from spacy.matcher import Matcher\n",
    "\n",
    "\n",
    "def is_simple_past_tense(sentence):\n",
    "    \"\"\"Return True if a sentence's main verb is in the simple past tense. Otherwise, return False.\n",
    "    Recreating the matcher each time is not efficient.\n",
    "\n",
    "    Given a string, return a boolean.\n",
    "    \"\"\"\n",
    "\n",
    "    matcher = Matcher(nlp.vocab)\n",
    "    matcher.add('SimplePast', [simple_past_rule])\n",
    "\n",
    "    doc = nlp(sentence)\n",
    "    matches = matcher(doc)\n",
    "\n",
    "    return True if matches else False\n",
    "\n",
    "\n",
    "def print_sentence_and_whether_simple_past(sentence):\n",
    "    \"\"\"Print a sentence and whether the main verb is in the simple past tense.\n",
    "\n",
    "    Given a string, return None.\n",
    "    \"\"\"\n",
    "\n",
    "    if is_simple_past_tense(sentence):\n",
    "        print(\"YES =>\", sentence + \"\\n\")\n",
    "    else:\n",
    "        print(\"NO  =>\", sentence + \"\\n\")\n",
    "\n",
    "\n",
    "def print_sentences_and_whether_simple_past(sentences):\n",
    "    \"\"\"Print sentences and whether their main verbs are in the simple past tense.\n",
    "\n",
    "    Given a list of strings, return None.\n",
    "    \"\"\"\n",
    "\n",
    "    [print_sentence_and_whether_simple_past(sentence) for sentence in sentences]"
   ]
  },
  {
   "cell_type": "markdown",
   "metadata": {},
   "source": [
    "### Step 7) Use it on the example sentences"
   ]
  },
  {
   "cell_type": "code",
   "execution_count": 9,
   "metadata": {},
   "outputs": [
    {
     "name": "stdout",
     "output_type": "stream",
     "text": [
      "YES => Two boys played with a ball.\n",
      "\n",
      "YES => An old lady walked with her cat.\n",
      "\n",
      "YES => A nurse brought a little baby girl to the park.\n",
      "\n",
      "YES => An old man sat down and read his book.\n",
      "\n",
      "YES => A large truck came around the corner.\n",
      "\n",
      "NO  => My sister has made a big cake.\n",
      "\n",
      "NO  => You have grown since the last time I saw you.\n",
      "\n",
      "NO  => It hasn't drunk the water.\n",
      "\n",
      "NO  => I have seen that movie.\n",
      "\n",
      "NO  => We haven't received any mail since we were retired.\n",
      "\n"
     ]
    }
   ],
   "source": [
    "print_sentences_and_whether_simple_past(simple_past_sentences)\n",
    "print_sentences_and_whether_simple_past(present_perfect_sentences)"
   ]
  },
  {
   "cell_type": "markdown",
   "metadata": {},
   "source": [
    "## Interactive Example:"
   ]
  },
  {
   "cell_type": "markdown",
   "metadata": {},
   "source": [
    "### Try changing these settings\n",
    "Ctrl + Enter = reload the cell/code block"
   ]
  },
  {
   "cell_type": "code",
   "execution_count": 10,
   "metadata": {
    "scrolled": true
   },
   "outputs": [
    {
     "name": "stdout",
     "output_type": "stream",
     "text": [
      "YES => Who first seduced them to that foul revolt?\n",
      "\n"
     ]
    }
   ],
   "source": [
    "# Change this: don't forget the \"\"\n",
    "sentence = \"Who first seduced them to that foul revolt?\"\n",
    "\n",
    "\n",
    "# Don't change this\n",
    "print_sentence_and_whether_simple_past(sentence)"
   ]
  },
  {
   "cell_type": "markdown",
   "metadata": {},
   "source": [
    "## Other Examples:"
   ]
  },
  {
   "cell_type": "markdown",
   "metadata": {},
   "source": [
    "### Example 1: 20 sentences from news articles"
   ]
  },
  {
   "cell_type": "code",
   "execution_count": 11,
   "metadata": {},
   "outputs": [
    {
     "name": "stdout",
     "output_type": "stream",
     "text": [
      "YES => The Fulton County Grand Jury said Friday an investigation of Atlanta's recent primary election produced `` no evidence '' that any irregularities took place .\n",
      "\n",
      "YES => The jury further said in term-end presentments that the City Executive Committee , which had over-all charge of the election , `` deserves the praise and thanks of the City of Atlanta '' for the manner in which the election was conducted .\n",
      "\n",
      "NO  => The September-October term jury had been charged by Fulton Superior Court Judge Durwood Pye to investigate reports of possible `` irregularities '' in the hard-fought primary which was won by Mayor-nominate Ivan Allen Jr. .\n",
      "\n",
      "YES => `` Only a relative handful of such reports was received '' , the jury said , `` considering the widespread interest in the election , the number of voters and the size of this city '' .\n",
      "\n",
      "YES => The jury said it did find that many of Georgia's registration and election laws `` are outmoded or inadequate and often ambiguous '' .\n",
      "\n",
      "YES => It recommended that Fulton legislators act `` to have these laws studied and revised to the end of modernizing and improving them '' .\n",
      "\n",
      "YES => The grand jury commented on a number of other topics , among them the Atlanta and Fulton County purchasing departments which it said `` are well operated and follow generally accepted practices which inure to the best interest of both governments '' .\n",
      "\n",
      "YES => Merger proposed\n",
      "\n",
      "YES => However , the jury said it believes `` these two offices should be combined to achieve greater efficiency and reduce the cost of administration '' .\n",
      "\n",
      "NO  => The City Purchasing Department , the jury said , `` is lacking in experienced clerical personnel as a result of city personnel policies '' .\n",
      "\n",
      "YES => It urged that the city `` take steps to remedy '' this problem .\n",
      "\n",
      "NO  => Implementation of Georgia's automobile title law was also recommended by the outgoing jury .\n",
      "\n",
      "YES => It urged that the next Legislature `` provide enabling funds and re-set the effective date so that an orderly implementation of the law may be effected '' .\n",
      "\n",
      "YES => The grand jury took a swipe at the State Welfare Department's handling of federal funds granted for child welfare services in foster homes .\n",
      "\n",
      "NO  => `` This is one of the major items in the Fulton County general assistance program '' , the jury said , but the State Welfare Department `` has seen fit to distribute these funds through the welfare departments of all the counties in the state with the exception of Fulton County , which receives none of this money .\n",
      "\n",
      "YES => The jurors said they realize `` a proportionate distribution of these funds might disable this program in our less populous counties '' .\n",
      "\n",
      "YES => Nevertheless , `` we feel that in the future Fulton County should receive some portion of these available funds '' , the jurors said .\n",
      "\n",
      "NO  => `` Failure to do this will continue to place a disproportionate burden '' on Fulton taxpayers .\n",
      "\n",
      "YES => The jury also commented on the Fulton ordinary's court which has been under fire for its practices in the appointment of appraisers , guardians and administrators and the awarding of fees and compensation .\n",
      "\n",
      "NO  => Wards protected\n",
      "\n"
     ]
    }
   ],
   "source": [
    "from nltk.corpus import brown\n",
    "\n",
    "\n",
    "news_articles_word_lists = brown.sents(categories=['news'])[:20]\n",
    "news_articles_sentences = convert_word_lists_to_sentences(news_articles_word_lists)\n",
    "\n",
    "print_sentences_and_whether_simple_past(news_articles_sentences)"
   ]
  },
  {
   "cell_type": "markdown",
   "metadata": {},
   "source": [
    "### Example 2: 20 sentences from Australian scientific publications"
   ]
  },
  {
   "cell_type": "code",
   "execution_count": 12,
   "metadata": {},
   "outputs": [
    {
     "name": "stdout",
     "output_type": "stream",
     "text": [
      "NO  => Cystic fibrosis affects 30 , 000 children and young adults in the US alone Inhaling the mists of salt water can reduce the pus and infection that fills the airways of cystic fibrosis sufferers , although side effects include a nasty coughing fit and a harsh taste .\n",
      "\n",
      "NO  => That ' s the conclusion of two studies published in this week ' s issue of The New England Journal of Medicine .\n",
      "\n",
      "YES => They found that inhaling a mist with a salt content of 7 or 9 % improved lung function and , in some cases , produced less absenteeism from school or work .\n",
      "\n",
      "NO  => Cystic fibrosis , a progressive and frequently fatal genetic disease that affects about 30 , 000 young adults and children in the US alone , is marked by a thickening of the mucus which makes it harder to clear the lungs of debris and bacteria .\n",
      "\n",
      "NO  => The salt water solution \" really opens up a new avenue for approaching patients with cystic fibrosis and how to treat them ,\" says Dr Gail Weinmann , of the US National Heart , Lung , and Blood Institute , which sponsored one of the studies .\n",
      "\n",
      "YES => Mark Elkins of the Royal Prince Alfred Hospital in Sydney , Australia and colleagues authored one of the new published studies .\n",
      "\n",
      "YES => The team found that the 83 volunteers who regularly inhaled a 7 % mist of salty water had fewer breathing problems and less absenteeism from school or work than those who inhaled a solution with a salt content of under 1 %.\n",
      "\n",
      "NO  => \" Adding salt [ and water ] to the airway surfaces of patients with cystic fibrosis is beneficial \" for both children and adults , they conclude .\n",
      "\n",
      "YES => All of the patients first inhaled a chemical to try to open their lung passages as much as possible .\n",
      "\n",
      "YES => In the second study , US - based Assistant Profsesor Scott Donaldson of the University of North Carolina at Chapel Hill and his colleagues found that a 7 % salt mist \" produced a sustained acceleration of mucus clearance and improved lung function \" because it helped hydrate the lungs .\n",
      "\n",
      "YES => In an accompanying editorial , Dr Felix Ratjen of the Hospital for Sick Children in Toronto , Canada , cited several unpleasant side effects of the salt mist treatment including a bad taste , coughing fits and the lengthy 30 minutes it can take to administer .\n",
      "\n",
      "YES => He added that in the study by Elkins and team , patients may not have received the best long - term antibiotic treatment .\n",
      "\n",
      "NO  => That would make the inhaled salt water mist appear more effective than it would have been if people were getting a better drug , says Ratjen .\n",
      "\n",
      "NO  => Weinmann says limitations inherent to the treatment mean a salt water mist \" may be just a first step \" in treating cystic fibrosis .\n",
      "\n",
      "NO  => Scientists have rescued a mouse immune system that was overwhelmed by a systemic blood infection .\n",
      "\n",
      "NO  => But will this work in humans ?\n",
      "\n",
      "NO  => Scientists have discovered how infections that invade the whole body , like malaria , disable the immune system and prevent it from detecting and fighting other microorganisms .\n",
      "\n",
      "NO  => The Australian and German researchers say the discovery may help scientists to develop vaccines that restore immunity in people with systemic or ' whole body ' infections .\n",
      "\n",
      "NO  => They publish their research today online in the journal Nature Immunology .\n",
      "\n",
      "NO  => The immune response is alerted when specialised sentries of the immune system , dendritic cells , detect a virus or bacteria .\n",
      "\n"
     ]
    }
   ],
   "source": [
    "from nltk.corpus import abc\n",
    "\n",
    "\n",
    "word_lists = abc.sents(fileids=\"science.txt\")[:20]\n",
    "sentences = convert_word_lists_to_sentences(word_lists)\n",
    "\n",
    "print_sentences_and_whether_simple_past(sentences)"
   ]
  },
  {
   "cell_type": "markdown",
   "metadata": {},
   "source": [
    "### Example 3: Find past tense sentences in 50 sentences from editorials"
   ]
  },
  {
   "cell_type": "code",
   "execution_count": 13,
   "metadata": {},
   "outputs": [
    {
     "name": "stdout",
     "output_type": "stream",
     "text": [
      "Assembly session brought much good\n",
      "\n",
      "There followed the historic appropriations and budget fight , in which the General Assembly decided to tackle executive powers .\n",
      "\n",
      "The final decision went to the executive but a way has been opened for strengthening budgeting procedures and to provide legislators information they need .\n",
      "\n",
      "The legislature expended most of its time on the schools and appropriations questions .\n",
      "\n",
      "Fortunately it spared us from the usual spate of silly resolutions which in the past have made Georgia look like anything but `` the empire state of the South '' .\n",
      "\n",
      "`` If once they become inattentive to the public affairs '' , Jefferson said , `` you and I , and Congress and assemblies , judges and governors , shall all become wolves '' .\n",
      "\n",
      "The danger lay not in believing that our own A-bombs would deter Russia's use of hers ; ;\n",
      "\n",
      "that theory was and is sound .\n",
      "\n",
      "The danger lay in the American delusion that nuclear deterrence was enough .\n",
      "\n",
      "By limiting American strength too much to nuclear strength , this country limited its ability to fight any kind of war besides a nuclear war .\n",
      "\n",
      "This strategy heightened the possibility that we would have a nuclear war .\n",
      "\n",
      "It also weakened our diplomatic stance , because Russia could easily guess we did not desire a nuclear war except in the ultimate extremity .\n",
      "\n",
      "This left the Soviets plenty of leeway to start low-grade brushfire aggressions with considerable impunity .\n",
      "\n",
      "Touring Africa , the new U.S. Assistant Secretary of State observed `` Africa should be for the Africans '' and the British promptly denounced him .\n",
      "\n",
      "Then he arrived in Zanzibar and found Africans carrying signs saying `` American imperialists , go home '' .\n",
      "\n"
     ]
    }
   ],
   "source": [
    "from nltk.corpus import brown\n",
    "\n",
    "\n",
    "word_lists = brown.sents(categories=[\"editorial\"])[:50]\n",
    "sentences = convert_word_lists_to_sentences(word_lists)\n",
    "\n",
    "for sentence in sentences:\n",
    "    if is_simple_past_tense(sentence):\n",
    "        print(sentence + \"\\n\")"
   ]
  }
 ],
 "metadata": {
  "kernelspec": {
   "display_name": "Python 3",
   "language": "python",
   "name": "python3"
  },
  "language_info": {
   "codemirror_mode": {
    "name": "ipython",
    "version": 3
   },
   "file_extension": ".py",
   "mimetype": "text/x-python",
   "name": "python",
   "nbconvert_exporter": "python",
   "pygments_lexer": "ipython3",
   "version": "3.8.3"
  }
 },
 "nbformat": 4,
 "nbformat_minor": 4
}
