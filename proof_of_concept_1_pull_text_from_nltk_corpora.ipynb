{
 "cells": [
  {
   "cell_type": "markdown",
   "metadata": {},
   "source": [
    "# Proof-of-Concept 1: Pull Text from NLTK (Natural Lang. Toolkit) Corpora"
   ]
  },
  {
   "cell_type": "markdown",
   "metadata": {},
   "source": [
    "## How to use this PoC:\n",
    "After you run it, you may have to scroll back up to the top.\n",
    "\n",
    "To run it: in the drop-down menu, click **Kernel --> Restart & Run All --> Restart and Run All Cells**\n",
    "\n",
    "    or\n",
    "\n",
    "To run it: in the icon toolbar, click **the Fast-Forward button --> Restart and Run All Cells**."
   ]
  },
  {
   "cell_type": "markdown",
   "metadata": {},
   "source": [
    "## Attribution:\n",
    "**Author**: Steven Kyle Crawford\n",
    "\n",
    "Special thanks to the NLTK team and numerous authors."
   ]
  },
  {
   "cell_type": "markdown",
   "metadata": {},
   "source": [
    "## Description:\n",
    "This notebook illustrates pulling text from the NLTK corpora installed locally (on the computer).\n",
    "\n",
    "\n",
    "This notebook demonstrates:\n",
    "* printing all sentences from a specified Gutenberg book\n",
    "* printing a specific number of the first sentences from a specified book\n",
    "* printing sentences from the first 5 available books\n",
    "* printing sentences from specific books"
   ]
  },
  {
   "cell_type": "markdown",
   "metadata": {},
   "source": [
    "## Procedure:"
   ]
  },
  {
   "cell_type": "markdown",
   "metadata": {},
   "source": [
    "### Step 0) Install the dependencies"
   ]
  },
  {
   "cell_type": "code",
   "execution_count": 1,
   "metadata": {},
   "outputs": [],
   "source": [
    "# # Run this only once to avoid unnecessary redownloading\n",
    "# # To enable or disable: highlight all lines and <Ctrl> + /\n",
    "# !pip install -U nltk\n",
    "# !python -m nltk.downloader all-corpora # This will install only the corpora (no grammars or trained models)"
   ]
  },
  {
   "cell_type": "markdown",
   "metadata": {},
   "source": [
    "### Step 1) Get the fileid of the Gutenberg book you want"
   ]
  },
  {
   "cell_type": "code",
   "execution_count": 2,
   "metadata": {},
   "outputs": [
    {
     "name": "stdout",
     "output_type": "stream",
     "text": [
      "All available Gutenberg book titles:\n",
      "\n",
      "austen-emma.txt\n",
      "austen-persuasion.txt\n",
      "austen-sense.txt\n",
      "bible-kjv.txt\n",
      "blake-poems.txt\n",
      "bryant-stories.txt\n",
      "burgess-busterbrown.txt\n",
      "carroll-alice.txt\n",
      "chesterton-ball.txt\n",
      "chesterton-brown.txt\n",
      "chesterton-thursday.txt\n",
      "edgeworth-parents.txt\n",
      "melville-moby_dick.txt\n",
      "milton-paradise.txt\n",
      "shakespeare-caesar.txt\n",
      "shakespeare-hamlet.txt\n",
      "shakespeare-macbeth.txt\n",
      "whitman-leaves.txt\n"
     ]
    }
   ],
   "source": [
    "from nltk.corpus import gutenberg\n",
    "\n",
    "\n",
    "print(\"All available Gutenberg book titles:\\n\")\n",
    "printed = [print(fileid) for fileid in gutenberg.fileids()]"
   ]
  },
  {
   "cell_type": "markdown",
   "metadata": {},
   "source": [
    "### Step 2) Get the book's raw text\n",
    "Get the raw text of a Gutenberg book from the NLTK corpora installed on Step 0. The raw text is one giant string with line-break characters. It is not tagged for parts-of-speech (POS)."
   ]
  },
  {
   "cell_type": "code",
   "execution_count": 3,
   "metadata": {},
   "outputs": [],
   "source": [
    "from nltk.corpus import gutenberg\n",
    "\n",
    "\n",
    "fileid= \"carroll-alice.txt\"\n",
    "book = gutenberg.raw(fileid)"
   ]
  },
  {
   "cell_type": "markdown",
   "metadata": {},
   "source": [
    "### Step 3) Split the raw text into a list of sentences\n",
    "\n",
    "Split the raw text of a Gutenberg book into a list of sentences. A list of sentences is similar to one big paragraph. The tokenizer used here is a pre-trained NLTK sentence tokenizer."
   ]
  },
  {
   "cell_type": "code",
   "execution_count": 4,
   "metadata": {},
   "outputs": [],
   "source": [
    "from nltk.tokenize import sent_tokenize\n",
    "\n",
    "\n",
    "sentences = sent_tokenize(book)"
   ]
  },
  {
   "cell_type": "markdown",
   "metadata": {},
   "source": [
    "### Step 4) Pretty print each sentence"
   ]
  },
  {
   "cell_type": "code",
   "execution_count": 5,
   "metadata": {},
   "outputs": [],
   "source": [
    "def pretty_print_sentences(sentences, number_of_sentences=-1):\n",
    "    \"\"\"Pretty print a given number of sentences from a list of sentences.\n",
    "    If number_of_sentences == -1, print all sentences.\n",
    "\n",
    "    Given a list of strings and a positive integer, returns None.\n",
    "    Throws ValueError if number_of_sentences is not a positive integer.\n",
    "    \"\"\"\n",
    "\n",
    "    if number_of_sentences == 0 or number_of_sentences < -1:\n",
    "        raise ValueError('The number of sentences to print must be greater than 0')\n",
    "\n",
    "    # Get the first n sentences where n is number_of_sentences\n",
    "    for sentence in sentences[:number_of_sentences]:\n",
    "        print(sentence + \"\\n\")"
   ]
  },
  {
   "cell_type": "markdown",
   "metadata": {},
   "source": [
    "### Step 5) Put it all together"
   ]
  },
  {
   "cell_type": "code",
   "execution_count": 6,
   "metadata": {},
   "outputs": [],
   "source": [
    "def print_sentences_from_gutenberg_book(fileid, number_of_sentences=-1):\n",
    "    \"\"\"Pretty print a given number of sentences from a Gutenberg book using the book's fileid.\n",
    "\n",
    "    Given a string and a positive integer, returns None.\n",
    "    Throws ValueError if number_of_sentences is not a positive integer.\n",
    "    \"\"\"\n",
    "\n",
    "    book = gutenberg.raw(fileid)\n",
    "    sentences = sent_tokenize(book)\n",
    "    pretty_print_sentences(sentences, number_of_sentences)"
   ]
  },
  {
   "cell_type": "markdown",
   "metadata": {},
   "source": [
    "### Step 6) Use it"
   ]
  },
  {
   "cell_type": "code",
   "execution_count": 7,
   "metadata": {},
   "outputs": [
    {
     "name": "stdout",
     "output_type": "stream",
     "text": [
      "[Alice's Adventures in Wonderland by Lewis Carroll 1865]\n",
      "\n",
      "CHAPTER I.\n",
      "\n",
      "Down the Rabbit-Hole\n",
      "\n",
      "Alice was beginning to get very tired of sitting by her sister on the\n",
      "bank, and of having nothing to do: once or twice she had peeped into the\n",
      "book her sister was reading, but it had no pictures or conversations in\n",
      "it, 'and what is the use of a book,' thought Alice 'without pictures or\n",
      "conversation?'\n",
      "\n",
      "So she was considering in her own mind (as well as she could, for the\n",
      "hot day made her feel very sleepy and stupid), whether the pleasure\n",
      "of making a daisy-chain would be worth the trouble of getting up and\n",
      "picking the daisies, when suddenly a White Rabbit with pink eyes ran\n",
      "close by her.\n",
      "\n",
      "There was nothing so VERY remarkable in that; nor did Alice think it so\n",
      "VERY much out of the way to hear the Rabbit say to itself, 'Oh dear!\n",
      "\n",
      "Oh dear!\n",
      "\n",
      "I shall be late!'\n",
      "\n",
      "(when she thought it over afterwards, it\n",
      "occurred to her that she ought to have wondered at this, but at the time\n",
      "it all seemed quite natural); but when the Rabbit actually TOOK A WATCH\n",
      "OUT OF ITS WAISTCOAT-POCKET, and looked at it, and then hurried on,\n",
      "Alice started to her feet, for it flashed across her mind that she had\n",
      "never before seen a rabbit with either a waistcoat-pocket, or a watch\n",
      "to take out of it, and burning with curiosity, she ran across the field\n",
      "after it, and fortunately was just in time to see it pop down a large\n",
      "rabbit-hole under the hedge.\n",
      "\n",
      "In another moment down went Alice after it, never once considering how\n",
      "in the world she was to get out again.\n",
      "\n",
      "The rabbit-hole went straight on like a tunnel for some way, and then\n",
      "dipped suddenly down, so suddenly that Alice had not a moment to think\n",
      "about stopping herself before she found herself falling down a very deep\n",
      "well.\n",
      "\n",
      "Either the well was very deep, or she fell very slowly, for she had\n",
      "plenty of time as she went down to look about her and to wonder what was\n",
      "going to happen next.\n",
      "\n"
     ]
    }
   ],
   "source": [
    "fileid = \"carroll-alice.txt\"\n",
    "number_of_sentences = 10\n",
    "\n",
    "print_sentences_from_gutenberg_book(fileid, number_of_sentences)"
   ]
  },
  {
   "cell_type": "markdown",
   "metadata": {},
   "source": [
    "## Interactive Example:"
   ]
  },
  {
   "cell_type": "markdown",
   "metadata": {},
   "source": [
    "### Try changing these settings\n",
    "Ctrl + Enter = reload the cell/code block"
   ]
  },
  {
   "cell_type": "code",
   "execution_count": 8,
   "metadata": {},
   "outputs": [
    {
     "name": "stdout",
     "output_type": "stream",
     "text": [
      "[Moby Dick by Herman Melville 1851]\r\n",
      "\r\n",
      "\r\n",
      "ETYMOLOGY.\n",
      "\n",
      "(Supplied by a Late Consumptive Usher to a Grammar School)\r\n",
      "\r\n",
      "The pale Usher--threadbare in coat, heart, body, and brain; I see him\r\n",
      "now.\n",
      "\n",
      "He was ever dusting his old lexicons and grammars, with a queer\r\n",
      "handkerchief, mockingly embellished with all the gay flags of all the\r\n",
      "known nations of the world.\n",
      "\n",
      "He loved to dust his old grammars; it\r\n",
      "somehow mildly reminded him of his mortality.\n",
      "\n",
      "\"While you take in hand to school others, and to teach them by what\r\n",
      "name a whale-fish is to be called in our tongue leaving out, through\r\n",
      "ignorance, the letter H, which almost alone maketh the signification\r\n",
      "of the word, you deliver that which is not true.\"\n",
      "\n"
     ]
    }
   ],
   "source": [
    "# Change this: don't forget the \"\" marks and the .txt\n",
    "fileid = \"melville-moby_dick.txt\"\n",
    "\n",
    "# Change this: -1 = give me all of the sentences\n",
    "number_of_sentences = 5\n",
    "\n",
    "\n",
    "# Don't change this\n",
    "print_sentences_from_gutenberg_book(fileid, number_of_sentences)"
   ]
  },
  {
   "cell_type": "markdown",
   "metadata": {},
   "source": [
    "#### All available Gutenberg book titles:\n",
    "* austen-emma.txt\n",
    "* austen-persuasion.txt\n",
    "* austen-sense.txt\n",
    "* bible-kjv.txt\n",
    "* blake-poems.txt\n",
    "* bryant-stories.txt\n",
    "* burgess-busterbrown.txt\n",
    "* carroll-alice.txt\n",
    "* chesterton-ball.txt\n",
    "* chesterton-brown.txt\n",
    "* chesterton-thursday.txt\n",
    "* edgeworth-parents.txt\n",
    "* melville-moby_dick.txt\n",
    "* milton-paradise.txt\n",
    "* shakespeare-caesar.txt\n",
    "* shakespeare-hamlet.txt\n",
    "* shakespeare-macbeth.txt\n",
    "* whitman-leaves.txt"
   ]
  },
  {
   "cell_type": "markdown",
   "metadata": {},
   "source": [
    "## Other Examples:"
   ]
  },
  {
   "cell_type": "markdown",
   "metadata": {},
   "source": [
    "### Example 1: Print the first 5 sentences from the first 5 books"
   ]
  },
  {
   "cell_type": "code",
   "execution_count": 9,
   "metadata": {},
   "outputs": [
    {
     "name": "stdout",
     "output_type": "stream",
     "text": [
      "~~~~~~~~~~~~~~~~~~~~~~~~~~~~~~~~~~~~~~~~~~~~~~~~~~~~~~~~~~~~~~~~~~~~~~~~~~~~~~~~\n",
      "[Emma by Jane Austen 1816]\n",
      "\n",
      "VOLUME I\n",
      "\n",
      "CHAPTER I\n",
      "\n",
      "\n",
      "Emma Woodhouse, handsome, clever, and rich, with a comfortable home\n",
      "and happy disposition, seemed to unite some of the best blessings\n",
      "of existence; and had lived nearly twenty-one years in the world\n",
      "with very little to distress or vex her.\n",
      "\n",
      "She was the youngest of the two daughters of a most affectionate,\n",
      "indulgent father; and had, in consequence of her sister's marriage,\n",
      "been mistress of his house from a very early period.\n",
      "\n",
      "Her mother\n",
      "had died too long ago for her to have more than an indistinct\n",
      "remembrance of her caresses; and her place had been supplied\n",
      "by an excellent woman as governess, who had fallen little short\n",
      "of a mother in affection.\n",
      "\n",
      "Sixteen years had Miss Taylor been in Mr. Woodhouse's family,\n",
      "less as a governess than a friend, very fond of both daughters,\n",
      "but particularly of Emma.\n",
      "\n",
      "Between _them_ it was more the intimacy\n",
      "of sisters.\n",
      "\n",
      "~~~~~~~~~~~~~~~~~~~~~~~~~~~~~~~~~~~~~~~~~~~~~~~~~~~~~~~~~~~~~~~~~~~~~~~~~~~~~~~~\n",
      "~~~~~~~~~~~~~~~~~~~~~~~~~~~~~~~~~~~~~~~~~~~~~~~~~~~~~~~~~~~~~~~~~~~~~~~~~~~~~~~~\n",
      "[Persuasion by Jane Austen 1818]\n",
      "\n",
      "\n",
      "Chapter 1\n",
      "\n",
      "\n",
      "Sir Walter Elliot, of Kellynch Hall, in Somersetshire, was a man who,\n",
      "for his own amusement, never took up any book but the Baronetage;\n",
      "there he found occupation for an idle hour, and consolation in a\n",
      "distressed one; there his faculties were roused into admiration and\n",
      "respect, by contemplating the limited remnant of the earliest patents;\n",
      "there any unwelcome sensations, arising from domestic affairs\n",
      "changed naturally into pity and contempt as he turned over\n",
      "the almost endless creations of the last century; and there,\n",
      "if every other leaf were powerless, he could read his own history\n",
      "with an interest which never failed.\n",
      "\n",
      "This was the page at which\n",
      "the favourite volume always opened:\n",
      "\n",
      "           \"ELLIOT OF KELLYNCH HALL.\n",
      "\n",
      "\"Walter Elliot, born March 1, 1760, married, July 15, 1784, Elizabeth,\n",
      "daughter of James Stevenson, Esq.\n",
      "\n",
      "of South Park, in the county of\n",
      "Gloucester, by which lady (who died 1800) he has issue Elizabeth,\n",
      "born June 1, 1785; Anne, born August 9, 1787; a still-born son,\n",
      "November 5, 1789; Mary, born November 20, 1791.\"\n",
      "\n",
      "Precisely such had the paragraph originally stood from the printer's hands;\n",
      "but Sir Walter had improved it by adding, for the information of\n",
      "himself and his family, these words, after the date of Mary's birth--\n",
      "\"Married, December 16, 1810, Charles, son and heir of Charles\n",
      "Musgrove, Esq.\n",
      "\n",
      "~~~~~~~~~~~~~~~~~~~~~~~~~~~~~~~~~~~~~~~~~~~~~~~~~~~~~~~~~~~~~~~~~~~~~~~~~~~~~~~~\n",
      "~~~~~~~~~~~~~~~~~~~~~~~~~~~~~~~~~~~~~~~~~~~~~~~~~~~~~~~~~~~~~~~~~~~~~~~~~~~~~~~~\n",
      "[Sense and Sensibility by Jane Austen 1811]\n",
      "\n",
      "CHAPTER 1\n",
      "\n",
      "\n",
      "The family of Dashwood had long been settled in Sussex.\n",
      "\n",
      "Their estate was large, and their residence was at Norland Park,\n",
      "in the centre of their property, where, for many generations,\n",
      "they had lived in so respectable a manner as to engage\n",
      "the general good opinion of their surrounding acquaintance.\n",
      "\n",
      "The late owner of this estate was a single man, who lived\n",
      "to a very advanced age, and who for many years of his life,\n",
      "had a constant companion and housekeeper in his sister.\n",
      "\n",
      "But her death, which happened ten years before his own,\n",
      "produced a great alteration in his home; for to supply\n",
      "her loss, he invited and received into his house the family\n",
      "of his nephew Mr. Henry Dashwood, the legal inheritor\n",
      "of the Norland estate, and the person to whom he intended\n",
      "to bequeath it.\n",
      "\n",
      "In the society of his nephew and niece,\n",
      "and their children, the old Gentleman's days were\n",
      "comfortably spent.\n",
      "\n",
      "~~~~~~~~~~~~~~~~~~~~~~~~~~~~~~~~~~~~~~~~~~~~~~~~~~~~~~~~~~~~~~~~~~~~~~~~~~~~~~~~\n",
      "~~~~~~~~~~~~~~~~~~~~~~~~~~~~~~~~~~~~~~~~~~~~~~~~~~~~~~~~~~~~~~~~~~~~~~~~~~~~~~~~\n",
      "[The King James Bible]\n",
      "\n",
      "The Old Testament of the King James Bible\n",
      "\n",
      "The First Book of Moses:  Called Genesis\n",
      "\n",
      "\n",
      "1:1 In the beginning God created the heaven and the earth.\n",
      "\n",
      "1:2 And the earth was without form, and void; and darkness was upon\n",
      "the face of the deep.\n",
      "\n",
      "And the Spirit of God moved upon the face of the\n",
      "waters.\n",
      "\n",
      "1:3 And God said, Let there be light: and there was light.\n",
      "\n",
      "1:4 And God saw the light, that it was good: and God divided the light\n",
      "from the darkness.\n",
      "\n",
      "~~~~~~~~~~~~~~~~~~~~~~~~~~~~~~~~~~~~~~~~~~~~~~~~~~~~~~~~~~~~~~~~~~~~~~~~~~~~~~~~\n",
      "~~~~~~~~~~~~~~~~~~~~~~~~~~~~~~~~~~~~~~~~~~~~~~~~~~~~~~~~~~~~~~~~~~~~~~~~~~~~~~~~\n",
      "[Poems by William Blake 1789]\n",
      "\n",
      " \n",
      "SONGS OF INNOCENCE AND OF EXPERIENCE\n",
      "and THE BOOK of THEL\n",
      "\n",
      "\n",
      " SONGS OF INNOCENCE\n",
      " \n",
      " \n",
      " INTRODUCTION\n",
      " \n",
      " Piping down the valleys wild,\n",
      "   Piping songs of pleasant glee,\n",
      " On a cloud I saw a child,\n",
      "   And he laughing said to me:\n",
      " \n",
      " \"Pipe a song about a Lamb!\"\n",
      "\n",
      "So I piped with merry cheer.\n",
      "\n",
      "\"Piper, pipe that song again;\"\n",
      "   So I piped: he wept to hear.\n",
      "\n",
      "\"Drop thy pipe, thy happy pipe;\n",
      "   Sing thy songs of happy cheer:!\"\n",
      "\n",
      "So I sang the same again,\n",
      "   While he wept with joy to hear.\n",
      "\n",
      "~~~~~~~~~~~~~~~~~~~~~~~~~~~~~~~~~~~~~~~~~~~~~~~~~~~~~~~~~~~~~~~~~~~~~~~~~~~~~~~~\n"
     ]
    }
   ],
   "source": [
    "number_of_books = 5\n",
    "number_of_sentences = 5\n",
    "\n",
    "# Get the first n books where n is number_of_books\n",
    "all_fileids = gutenberg.fileids()\n",
    "trimmed_fileids = all_fileids[:number_of_books]\n",
    "\n",
    "for id in trimmed_fileids:\n",
    "    print(\"~~~~~~~~~~~~~~~~~~~~~~~~~~~~~~~~~~~~~~~~~~~~~~~~~~~~~~~~~~~~~~~~~~~~~~~~~~~~~~~~\")\n",
    "    print_sentences_from_gutenberg_book(id, number_of_sentences)\n",
    "    print(\"~~~~~~~~~~~~~~~~~~~~~~~~~~~~~~~~~~~~~~~~~~~~~~~~~~~~~~~~~~~~~~~~~~~~~~~~~~~~~~~~\")"
   ]
  },
  {
   "cell_type": "markdown",
   "metadata": {},
   "source": [
    "### Example 2: Print the first 7 sentences from The Bible (KJV), Paradise Lost (Milton), and Julius Caesar (Shakespeare)"
   ]
  },
  {
   "cell_type": "code",
   "execution_count": 10,
   "metadata": {},
   "outputs": [
    {
     "name": "stdout",
     "output_type": "stream",
     "text": [
      "~~~~~~~~~~~~~~~~~~~~~~~~~~~~~~~~~~~~~~~~~~~~~~~~~~~~~~~~~~~~~~~~~~~~~~~~~~~~~~~~\n",
      "[The King James Bible]\n",
      "\n",
      "The Old Testament of the King James Bible\n",
      "\n",
      "The First Book of Moses:  Called Genesis\n",
      "\n",
      "\n",
      "1:1 In the beginning God created the heaven and the earth.\n",
      "\n",
      "1:2 And the earth was without form, and void; and darkness was upon\n",
      "the face of the deep.\n",
      "\n",
      "And the Spirit of God moved upon the face of the\n",
      "waters.\n",
      "\n",
      "1:3 And God said, Let there be light: and there was light.\n",
      "\n",
      "1:4 And God saw the light, that it was good: and God divided the light\n",
      "from the darkness.\n",
      "\n",
      "1:5 And God called the light Day, and the darkness he called Night.\n",
      "\n",
      "And the evening and the morning were the first day.\n",
      "\n",
      "~~~~~~~~~~~~~~~~~~~~~~~~~~~~~~~~~~~~~~~~~~~~~~~~~~~~~~~~~~~~~~~~~~~~~~~~~~~~~~~~\n",
      "~~~~~~~~~~~~~~~~~~~~~~~~~~~~~~~~~~~~~~~~~~~~~~~~~~~~~~~~~~~~~~~~~~~~~~~~~~~~~~~~\n",
      "[Paradise Lost by John Milton 1667] \n",
      " \n",
      " \n",
      "Book I \n",
      " \n",
      " \n",
      "Of Man's first disobedience, and the fruit \n",
      "Of that forbidden tree whose mortal taste \n",
      "Brought death into the World, and all our woe, \n",
      "With loss of Eden, till one greater Man \n",
      "Restore us, and regain the blissful seat, \n",
      "Sing, Heavenly Muse, that, on the secret top \n",
      "Of Oreb, or of Sinai, didst inspire \n",
      "That shepherd who first taught the chosen seed \n",
      "In the beginning how the heavens and earth \n",
      "Rose out of Chaos: or, if Sion hill \n",
      "Delight thee more, and Siloa's brook that flowed \n",
      "Fast by the oracle of God, I thence \n",
      "Invoke thy aid to my adventurous song, \n",
      "That with no middle flight intends to soar \n",
      "Above th' Aonian mount, while it pursues \n",
      "Things unattempted yet in prose or rhyme.\n",
      "\n",
      "And chiefly thou, O Spirit, that dost prefer \n",
      "Before all temples th' upright heart and pure, \n",
      "Instruct me, for thou know'st; thou from the first \n",
      "Wast present, and, with mighty wings outspread, \n",
      "Dove-like sat'st brooding on the vast Abyss, \n",
      "And mad'st it pregnant: what in me is dark \n",
      "Illumine, what is low raise and support; \n",
      "That, to the height of this great argument, \n",
      "I may assert Eternal Providence, \n",
      "And justify the ways of God to men.\n",
      "\n",
      "Say first--for Heaven hides nothing from thy view, \n",
      "Nor the deep tract of Hell--say first what cause \n",
      "Moved our grand parents, in that happy state, \n",
      "Favoured of Heaven so highly, to fall off \n",
      "From their Creator, and transgress his will \n",
      "For one restraint, lords of the World besides.\n",
      "\n",
      "Who first seduced them to that foul revolt?\n",
      "\n",
      "Th' infernal Serpent; he it was whose guile, \n",
      "Stirred up with envy and revenge, deceived \n",
      "The mother of mankind, what time his pride \n",
      "Had cast him out from Heaven, with all his host \n",
      "Of rebel Angels, by whose aid, aspiring \n",
      "To set himself in glory above his peers, \n",
      "He trusted to have equalled the Most High, \n",
      "If he opposed, and with ambitious aim \n",
      "Against the throne and monarchy of God, \n",
      "Raised impious war in Heaven and battle proud, \n",
      "With vain attempt.\n",
      "\n",
      "Him the Almighty Power \n",
      "Hurled headlong flaming from th' ethereal sky, \n",
      "With hideous ruin and combustion, down \n",
      "To bottomless perdition, there to dwell \n",
      "In adamantine chains and penal fire, \n",
      "Who durst defy th' Omnipotent to arms.\n",
      "\n",
      "Nine times the space that measures day and night \n",
      "To mortal men, he, with his horrid crew, \n",
      "Lay vanquished, rolling in the fiery gulf, \n",
      "Confounded, though immortal.\n",
      "\n",
      "~~~~~~~~~~~~~~~~~~~~~~~~~~~~~~~~~~~~~~~~~~~~~~~~~~~~~~~~~~~~~~~~~~~~~~~~~~~~~~~~\n",
      "~~~~~~~~~~~~~~~~~~~~~~~~~~~~~~~~~~~~~~~~~~~~~~~~~~~~~~~~~~~~~~~~~~~~~~~~~~~~~~~~\n",
      "[The Tragedie of Julius Caesar by William Shakespeare 1599]\n",
      "\n",
      "\n",
      "Actus Primus.\n",
      "\n",
      "Scoena Prima.\n",
      "\n",
      "Enter Flauius, Murellus, and certaine Commoners ouer the Stage.\n",
      "\n",
      "Flauius.\n",
      "\n",
      "Hence: home you idle Creatures, get you home:\n",
      "Is this a Holiday?\n",
      "\n",
      "What, know you not\n",
      "(Being Mechanicall) you ought not walke\n",
      "Vpon a labouring day, without the signe\n",
      "Of your Profession?\n",
      "\n",
      "Speake, what Trade art thou?\n",
      "\n",
      "~~~~~~~~~~~~~~~~~~~~~~~~~~~~~~~~~~~~~~~~~~~~~~~~~~~~~~~~~~~~~~~~~~~~~~~~~~~~~~~~\n"
     ]
    }
   ],
   "source": [
    "number_of_sentences = 7\n",
    "fileids = [\n",
    "    # \"austen-emma.txt\",\n",
    "    # \"austen-persuasion.txt\",\n",
    "    # \"austen-sense.txt\",\n",
    "    \"bible-kjv.txt\",\n",
    "    # \"blake-poems.txt\",\n",
    "    # \"bryant-stories.txt\",\n",
    "    # \"burgess-busterbrown.txt\",\n",
    "    # \"carroll-alice.txt\",\n",
    "    # \"chesterton-ball.txt\",\n",
    "    # \"chesterton-brown.txt\",\n",
    "    # \"chesterton-thursday.txt\",\n",
    "    # \"edgeworth-parents.txt\",\n",
    "    # \"melville-moby_dick.txt\",\n",
    "    \"milton-paradise.txt\",\n",
    "    \"shakespeare-caesar.txt\",\n",
    "    # \"shakespeare-hamlet.txt\",\n",
    "    # \"shakespeare-macbeth.txt\",\n",
    "    # \"whitman-leaves.txt\",\n",
    "]\n",
    "\n",
    "for fileid in fileids:\n",
    "    print(\"~~~~~~~~~~~~~~~~~~~~~~~~~~~~~~~~~~~~~~~~~~~~~~~~~~~~~~~~~~~~~~~~~~~~~~~~~~~~~~~~\")\n",
    "    print_sentences_from_gutenberg_book(fileid, number_of_sentences)\n",
    "    print(\"~~~~~~~~~~~~~~~~~~~~~~~~~~~~~~~~~~~~~~~~~~~~~~~~~~~~~~~~~~~~~~~~~~~~~~~~~~~~~~~~\")"
   ]
  }
 ],
 "metadata": {
  "kernelspec": {
   "display_name": "Python 3",
   "language": "python",
   "name": "python3"
  },
  "language_info": {
   "codemirror_mode": {
    "name": "ipython",
    "version": 3
   },
   "file_extension": ".py",
   "mimetype": "text/x-python",
   "name": "python",
   "nbconvert_exporter": "python",
   "pygments_lexer": "ipython3",
   "version": "3.8.3"
  }
 },
 "nbformat": 4,
 "nbformat_minor": 4
}
