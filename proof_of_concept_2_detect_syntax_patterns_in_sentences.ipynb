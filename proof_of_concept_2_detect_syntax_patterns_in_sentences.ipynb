{
 "cells": [
  {
   "cell_type": "markdown",
   "metadata": {},
   "source": [
    "# Proof-of-Concept 2: Detect Syntax Patterns in Sentences"
   ]
  },
  {
   "cell_type": "markdown",
   "metadata": {},
   "source": [
    "## How to use this PoC:\n",
    "After you run it, you may have to scroll back up to the top.\n",
    "\n",
    "To run it: in the drop-down menu, click **Kernel --> Restart & Run All --> Restart and Run All Cells**\n",
    "\n",
    "    or\n",
    "\n",
    "To run it: in the icon toolbar, click **the Fast-Forward button --> Restart and Run All Cells**."
   ]
  },
  {
   "cell_type": "markdown",
   "metadata": {},
   "source": [
    "## Attribution:\n",
    "* **Author of notebook**: Steven Kyle Crawford\n",
    "* **Author of [the spaCy implementation, the passive rule, and the sample data](https://github.com/scottkleinman/python-tutorials/blob/master/passive_voice_detection.ipynb)**: Dr. Scott Kleinman (CSUN Center for Digital Humanities)\n",
    "\n",
    "Special thanks to Dr. Kleinman, the spaCy team, and numerous authors."
   ]
  },
  {
   "cell_type": "markdown",
   "metadata": {},
   "source": [
    "## Description:\n",
    "This notebook illustrates detecting syntax patterns in sentences with relative accuracy.\n",
    "\n",
    "\n",
    "This notebook demonstrates:\n",
    "* detecting passive voice in a sentence\n",
    "* detecting passive voice in a list of sentences (i.e. a paragraph)"
   ]
  },
  {
   "cell_type": "markdown",
   "metadata": {},
   "source": [
    "## Helpful links:\n",
    "* [spaCy docs](https://spacy.io/usage/spacy-101)\n",
    "* [spaCy part-of-speech (POS) tags](https://github.com/explosion/spaCy/blob/master/spacy/glossary.py#L20)\n",
    "* [NLTK docs](http://www.nltk.org/)\n",
    "* [Using NLTK corpora with spaCy](https://sp1920.github.io/nltk-spacy.pdf)"
   ]
  },
  {
   "cell_type": "markdown",
   "metadata": {},
   "source": [
    "## Procedure:"
   ]
  },
  {
   "cell_type": "markdown",
   "metadata": {},
   "source": [
    "### Step 0) Install the dependencies"
   ]
  },
  {
   "cell_type": "code",
   "execution_count": 1,
   "metadata": {},
   "outputs": [],
   "source": [
    "# # Run this only once to avoid unnecessary redownloading\n",
    "# # To enable or disable, highlight all lines and <Ctrl> + /\n",
    "# !pip install -U spaCy \n",
    "# !pip install -U spacy-lookups-data\n",
    "# !python -m spacy download en_core_web_sm"
   ]
  },
  {
   "cell_type": "markdown",
   "metadata": {},
   "source": [
    "### Step 1) Load the language model\n",
    "A Language object \"containing all components and data needed to process text\" (spaCy docs, 2020). Using the medium (md) or large (lg) may improve accuracy (Kleinman, 2020)."
   ]
  },
  {
   "cell_type": "code",
   "execution_count": 2,
   "metadata": {},
   "outputs": [],
   "source": [
    "import spacy\n",
    "\n",
    "\n",
    "nlp = spacy.load('en_core_web_sm')"
   ]
  },
  {
   "cell_type": "markdown",
   "metadata": {},
   "source": [
    "### Step 2) Create and train the matcher"
   ]
  },
  {
   "cell_type": "code",
   "execution_count": 3,
   "metadata": {},
   "outputs": [],
   "source": [
    "from spacy.matcher import Matcher\n",
    "\n",
    "\n",
    "matcher = Matcher(nlp.vocab)"
   ]
  },
  {
   "cell_type": "markdown",
   "metadata": {},
   "source": [
    "### Step 3) Create a rule for the syntax pattern\n",
    "Rule created by: [Dr. Kleinman](https://render.githubusercontent.com/view/ipynb?commit=c741a022f02ac8dcdb316f32f00b9d4dbb7aa4d0&enc_url=68747470733a2f2f7261772e67697468756275736572636f6e74656e742e636f6d2f73636f74746b6c65696e6d616e2f707974686f6e2d7475746f7269616c732f633734316130323266303261633864636462333136663332663030623964346462623761613464302f706173736976655f766f6963655f646574656374696f6e2e6970796e62&nwo=scottkleinman%2Fpython-tutorials&path=passive_voice_detection.ipynb&repository_id=226424899&repository_type=Repository#Simply-Implementation-with-spaCy)\n",
    "\n",
    "See [the list of tags](https://spacy.io/api/annotation#pos-tagging) for more information."
   ]
  },
  {
   "cell_type": "code",
   "execution_count": 4,
   "metadata": {},
   "outputs": [],
   "source": [
    "passive_rule = [\n",
    "    {'DEP': 'nsubjpass'},\n",
    "    {'DEP': 'aux', 'OP': '*'},\n",
    "    {'DEP': 'auxpass'},\n",
    "    {'TAG': 'VBN'}\n",
    "]"
   ]
  },
  {
   "cell_type": "markdown",
   "metadata": {},
   "source": [
    "### Step 4) Add the rule to the matcher"
   ]
  },
  {
   "cell_type": "code",
   "execution_count": 5,
   "metadata": {},
   "outputs": [],
   "source": [
    "# As of spaCy 2.2.2, Matcher depecrated arguments: \n",
    "# matcher.add(\"GoogleNow\", on_match, *patterns)\n",
    "#\n",
    "# The new arguments:\n",
    "# matcher.add(\"GoogleNow\", patterns, on_match=on_match)\n",
    "\n",
    "matcher.add('Passive', [passive_rule])"
   ]
  },
  {
   "cell_type": "markdown",
   "metadata": {},
   "source": [
    "### Step 5) Use the matcher on the sentence\n",
    "Inspired by [Dr. Kleinman's implementation](https://render.githubusercontent.com/view/ipynb?commit=c741a022f02ac8dcdb316f32f00b9d4dbb7aa4d0&enc_url=68747470733a2f2f7261772e67697468756275736572636f6e74656e742e636f6d2f73636f74746b6c65696e6d616e2f707974686f6e2d7475746f7269616c732f633734316130323266303261633864636462333136663332663030623964346462623761613464302f706173736976655f766f6963655f646574656374696f6e2e6970796e62&nwo=scottkleinman%2Fpython-tutorials&path=passive_voice_detection.ipynb&repository_id=226424899&repository_type=Repository#Simply-Implementation-with-spaCy)."
   ]
  },
  {
   "cell_type": "code",
   "execution_count": 6,
   "metadata": {},
   "outputs": [],
   "source": [
    "def is_passive(sentence):\n",
    "    \"\"\"Return True if the sentence is in passive voice. \n",
    "    Otherwise, return False. \n",
    "    The Matcher instance is globally defined to avoid recreating it over and over.\n",
    "\n",
    "    Given a string, return a boolean.\n",
    "    \"\"\"\n",
    "\n",
    "    doc = nlp(sentence)\n",
    "    matches = matcher(doc) # Tuple (match_id, start, end)\n",
    "\n",
    "    return True if matches else False"
   ]
  },
  {
   "cell_type": "markdown",
   "metadata": {},
   "source": [
    "### Step 6) Put it all together"
   ]
  },
  {
   "cell_type": "code",
   "execution_count": 7,
   "metadata": {},
   "outputs": [],
   "source": [
    "def print_sentence_and_voice(sentence):\n",
    "    \"\"\"Print one sentence and its voice (active or passive).\n",
    "\n",
    "    Given a string, return None.\n",
    "    \"\"\"\n",
    "\n",
    "    if is_passive(sentence):\n",
    "        print(\"PASSIVE:\", sentence)\n",
    "    else:\n",
    "        print(\"ACTIVE:\", sentence)\n",
    "\n",
    "\n",
    "def print_sentences_and_voices(sentences):\n",
    "    \"\"\"Print many sentences and their voice (active or passive).\n",
    "    \n",
    "    Given a list of strings, return None.\n",
    "    \"\"\"\n",
    "\n",
    "    for sentence in sentences:\n",
    "        print_sentence_and_voice(sentence)\n",
    "        print(\"\")"
   ]
  },
  {
   "cell_type": "markdown",
   "metadata": {},
   "source": [
    "### Step 7) Define the text sample\n",
    "Source: [Dr. Kleinman](https://render.githubusercontent.com/view/ipynb?commit=c741a022f02ac8dcdb316f32f00b9d4dbb7aa4d0&enc_url=68747470733a2f2f7261772e67697468756275736572636f6e74656e742e636f6d2f73636f74746b6c65696e6d616e2f707974686f6e2d7475746f7269616c732f633734316130323266303261633864636462333136663332663030623964346462623761613464302f706173736976655f766f6963655f646574656374696f6e2e6970796e62&nwo=scottkleinman%2Fpython-tutorials&path=passive_voice_detection.ipynb&repository_id=226424899&repository_type=Repository#Configuration)"
   ]
  },
  {
   "cell_type": "code",
   "execution_count": 8,
   "metadata": {},
   "outputs": [],
   "source": [
    "mostly_active_sentences = [\n",
    "    \"Harry ate six shrimp at dinner.\",\n",
    "    \"Beautiful giraffes roam the savannah.\",\n",
    "    \"Sue changed the flat tire.\",\n",
    "    \"We are going to watch a movie tonight.\",\n",
    "    \"I ran the obstacle course in record time.\",\n",
    "    \"The crew paved the entire stretch of highway.\",\n",
    "    \"Mom read the novel in one day.\",\n",
    "    \"The critic wrote a scathing review.\",\n",
    "    \"I will clean the house every Saturday.\",\n",
    "    \"The staff is required to watch a safety video every year.\",\n",
    "]\n",
    "\n",
    "mostly_passive_sentences = [\n",
    "    \"A camera is bought by him.\",\n",
    "    \"Water is drunk by her.\",\n",
    "    \"He is known to me.\",\n",
    "    \"A tub is filled with water.\",\n",
    "    \"Sugar is sold in kilograms.\",\n",
    "    \"There is a considerable range of expertise demonstrated by the spam senders.\",\n",
    "    \"It was determined by the committee that the report was inconclusive.\",\n",
    "    \"We were invited by our neighbors to attend their party.\",\n",
    "    \"Groups help participants realize that most of their problems and secrets are shared by others in the group.\",\n",
    "    \"The proposed initiative will be bitterly opposed by abortion rights groups.\"\n",
    "]\n",
    "\n",
    "text_sample = []\n",
    "text_sample.extend(mostly_active_sentences)\n",
    "text_sample.extend(mostly_passive_sentences)"
   ]
  },
  {
   "cell_type": "markdown",
   "metadata": {},
   "source": [
    "### Step 8) Use it on the text sample"
   ]
  },
  {
   "cell_type": "code",
   "execution_count": 9,
   "metadata": {},
   "outputs": [
    {
     "name": "stdout",
     "output_type": "stream",
     "text": [
      "ACTIVE: Harry ate six shrimp at dinner.\n",
      "\n",
      "ACTIVE: Beautiful giraffes roam the savannah.\n",
      "\n",
      "ACTIVE: Sue changed the flat tire.\n",
      "\n",
      "ACTIVE: We are going to watch a movie tonight.\n",
      "\n",
      "ACTIVE: I ran the obstacle course in record time.\n",
      "\n",
      "ACTIVE: The crew paved the entire stretch of highway.\n",
      "\n",
      "ACTIVE: Mom read the novel in one day.\n",
      "\n",
      "ACTIVE: The critic wrote a scathing review.\n",
      "\n",
      "ACTIVE: I will clean the house every Saturday.\n",
      "\n",
      "PASSIVE: The staff is required to watch a safety video every year.\n",
      "\n",
      "PASSIVE: A camera is bought by him.\n",
      "\n",
      "ACTIVE: Water is drunk by her.\n",
      "\n",
      "PASSIVE: He is known to me.\n",
      "\n",
      "PASSIVE: A tub is filled with water.\n",
      "\n",
      "PASSIVE: Sugar is sold in kilograms.\n",
      "\n",
      "ACTIVE: There is a considerable range of expertise demonstrated by the spam senders.\n",
      "\n",
      "PASSIVE: It was determined by the committee that the report was inconclusive.\n",
      "\n",
      "PASSIVE: We were invited by our neighbors to attend their party.\n",
      "\n",
      "ACTIVE: Groups help participants realize that most of their problems and secrets are shared by others in the group.\n",
      "\n",
      "ACTIVE: The proposed initiative will be bitterly opposed by abortion rights groups.\n",
      "\n"
     ]
    }
   ],
   "source": [
    "print_sentences_and_voices(text_sample)"
   ]
  },
  {
   "cell_type": "markdown",
   "metadata": {},
   "source": [
    "### Step 9) Note false negatives/positives\n",
    "* ACTIVE: The proposed initiative will be bitterly opposed by abortion rights groups.\n",
    "* ACTIVE: Water is drunk by her."
   ]
  },
  {
   "cell_type": "markdown",
   "metadata": {},
   "source": [
    "## Interactive Example:"
   ]
  },
  {
   "cell_type": "markdown",
   "metadata": {},
   "source": [
    "### Try changing these settings:"
   ]
  },
  {
   "cell_type": "code",
   "execution_count": 10,
   "metadata": {},
   "outputs": [],
   "source": [
    "# Change this: don't forget the \"\"\n",
    "sentence = \"Who first seduced them to that foul revolt?\"\n",
    "\n",
    "\n",
    "# Don't change this\n",
    "print_sentence_and_voice(sentence)"
   ]
  },
  {
   "cell_type": "markdown",
   "metadata": {},
   "source": [
    "## Other Examples:"
   ]
  },
  {
   "cell_type": "markdown",
   "metadata": {},
   "source": [
    "### Example 1: Active/Passive Voice Worksheet\n",
    "Source: [EnglishForEveryone.org](https://www.englishforeveryone.org/viewpdf.html?pdf=/PDFs/Active%20-%20Passive%20Voice.pdf&title=Active/\\Passive%20Voice%20Worksheet)"
   ]
  },
  {
   "cell_type": "code",
   "execution_count": 12,
   "metadata": {},
   "outputs": [
    {
     "name": "stdout",
     "output_type": "stream",
     "text": [
      "ACTIVE: Thomas feeds his dog.\n",
      "\n",
      "PASSIVE: The dog is fed by Thomas.\n",
      "\n",
      "ACTIVE: The family went to the beach.\n",
      "\n",
      "PASSIVE: The letter was written by Marshall.\n",
      "\n",
      "PASSIVE: The game had been won by the blue team.\n",
      "\n",
      "PASSIVE: The problem was solved.\n",
      "\n",
      "ACTIVE: The stunt man risked his life.\n",
      "\n",
      "PASSIVE: The fire was extinguished.\n",
      "\n",
      "PASSIVE: The car was being cleaned by its owner.\n",
      "\n",
      "ACTIVE: It gets cold here during the winter.\n",
      "\n"
     ]
    }
   ],
   "source": [
    "sentences = [\n",
    "    \"Thomas feeds his dog.\",\n",
    "    \"The dog is fed by Thomas.\", \n",
    "    \"The family went to the beach.\",\n",
    "    \"The letter was written by Marshall.\",\n",
    "    \"The game had been won by the blue team.\",\n",
    "    \"The problem was solved.\",\n",
    "    \"The stunt man risked his life.\",\n",
    "    \"The fire was extinguished.\",\n",
    "    \"The car was being cleaned by its owner.\",\n",
    "    \"It gets cold here during the winter.\",\n",
    "]\n",
    "\n",
    "print_sentences_and_voices(sentences)"
   ]
  },
  {
   "cell_type": "markdown",
   "metadata": {},
   "source": [
    "### Example 2: Genesis - The First Day (KJV)"
   ]
  },
  {
   "cell_type": "code",
   "execution_count": 13,
   "metadata": {
    "scrolled": true
   },
   "outputs": [
    {
     "name": "stdout",
     "output_type": "stream",
     "text": [
      "ACTIVE: In the beginning God created the heaven and the earth.\n",
      "\n",
      "ACTIVE: And the earth was without form, and void.\n",
      "\n",
      "ACTIVE: And darkness was upon the face of the deep.\n",
      "\n",
      "ACTIVE: And the Spirit of God moved upon the face of the waters.\n",
      "\n",
      "ACTIVE: And God said, Let there be light.\n",
      "\n",
      "ACTIVE: And there was light.\n",
      "\n",
      "ACTIVE: And God saw the light, that it was good.\n",
      "\n",
      "ACTIVE: And God divided the light from the darkness.\n",
      "\n",
      "ACTIVE: And God called the light Day, and the darkness he called Night.\n",
      "\n",
      "ACTIVE: And the evening and the morning were the first day.\n",
      "\n"
     ]
    }
   ],
   "source": [
    "sentences = [\n",
    "    \"In the beginning God created the heaven and the earth.\",\n",
    "    \"And the earth was without form, and void.\", \n",
    "    \"And darkness was upon the face of the deep.\",\n",
    "    \"And the Spirit of God moved upon the face of the waters.\",\n",
    "    \"And God said, Let there be light.\",\n",
    "    \"And there was light.\",\n",
    "    \"And God saw the light, that it was good.\",\n",
    "    \"And God divided the light from the darkness.\",\n",
    "    \"And God called the light Day, and the darkness he called Night.\",\n",
    "    \"And the evening and the morning were the first day.\",\n",
    "]\n",
    "\n",
    "print_sentences_and_voices(sentences)"
   ]
  },
  {
   "cell_type": "markdown",
   "metadata": {},
   "source": [
    "### Example 3: Emma (Austen)"
   ]
  },
  {
   "cell_type": "code",
   "execution_count": 14,
   "metadata": {},
   "outputs": [
    {
     "name": "stdout",
     "output_type": "stream",
     "text": [
      "ACTIVE: Emma Woodhouse, handsome, clever, and rich, with a comfortable home and happy disposition, seemed to unite some of the best blessings of existence; and had lived nearly twenty-one years in the world with very little to distress or vex her.\n",
      "\n",
      "ACTIVE: She was the youngest of the two daughters of a most affectionate, indulgent father; and had, in consequence of her sister's marriage, been mistress of his house from a very early period.\n",
      "\n",
      "PASSIVE: Her mother had died too long ago for her to have more than an indistinct remembrance of her caresses; and her place had been supplied by an excellent woman as governess, who had fallen little short of a mother in affection.\n",
      "\n",
      "ACTIVE: Sixteen years had Miss Taylor been in Mr. Woodhouse's family, less as a governess than a friend, very fond of both daughters, but particularly of Emma.\n",
      "\n",
      "ACTIVE: Between _them_ it was more the intimacy of sisters.\n",
      "\n"
     ]
    }
   ],
   "source": [
    "sentences = [\n",
    "    \"Emma Woodhouse, handsome, clever, and rich, with a comfortable home and happy disposition, seemed to unite some of the best blessings of existence; and had lived nearly twenty-one years in the world with very little to distress or vex her.\",\n",
    "    \"She was the youngest of the two daughters of a most affectionate, indulgent father; and had, in consequence of her sister's marriage, been mistress of his house from a very early period.\", \n",
    "    \"Her mother had died too long ago for her to have more than an indistinct remembrance of her caresses; and her place had been supplied by an excellent woman as governess, who had fallen little short of a mother in affection.\",\n",
    "    \"Sixteen years had Miss Taylor been in Mr. Woodhouse's family, less as a governess than a friend, very fond of both daughters, but particularly of Emma.\",\n",
    "    \"Between _them_ it was more the intimacy of sisters.\",\n",
    "]\n",
    "\n",
    "print_sentences_and_voices(sentences)"
   ]
  }
 ],
 "metadata": {
  "kernelspec": {
   "display_name": "Python 3",
   "language": "python",
   "name": "python3"
  },
  "language_info": {
   "codemirror_mode": {
    "name": "ipython",
    "version": 3
   },
   "file_extension": ".py",
   "mimetype": "text/x-python",
   "name": "python",
   "nbconvert_exporter": "python",
   "pygments_lexer": "ipython3",
   "version": "3.8.3"
  }
 },
 "nbformat": 4,
 "nbformat_minor": 4
}
